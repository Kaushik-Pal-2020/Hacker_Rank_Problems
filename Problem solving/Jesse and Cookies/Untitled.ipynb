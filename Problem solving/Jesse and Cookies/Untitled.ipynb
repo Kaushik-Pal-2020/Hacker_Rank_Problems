{
 "cells": [
  {
   "cell_type": "code",
   "execution_count": 3,
   "metadata": {},
   "outputs": [
    {
     "name": "stdout",
     "output_type": "stream",
     "text": [
      "[12.0, 8.0, 5.0, 4.5, 5.0, 6.0]\n"
     ]
    }
   ],
   "source": [
    "import numpy as np\n",
    "def runningMedian(a):\n",
    "    my_list = []\n",
    "    for i in range(len(a)):\n",
    "        arr = np.array(a[0:i+1])\n",
    "        my_list.append(np.median(arr))\n",
    "    return my_list\n",
    "\n",
    "print(runningMedian([12,4,5,3,8,7]))"
   ]
  },
  {
   "cell_type": "code",
   "execution_count": 4,
   "metadata": {},
   "outputs": [
    {
     "name": "stdout",
     "output_type": "stream",
     "text": [
      "[1.0, 1.5, 2.0, 2.5, 3.0, 3.5, 4.0, 4.5, 5.0, 5.5]\n"
     ]
    }
   ],
   "source": [
    "print(runningMedian([1,2,3,4,5,6,7,8,9,10]))\n"
   ]
  },
  {
   "cell_type": "code",
   "execution_count": null,
   "metadata": {},
   "outputs": [],
   "source": []
  }
 ],
 "metadata": {
  "kernelspec": {
   "display_name": "Python 3",
   "language": "python",
   "name": "python3"
  },
  "language_info": {
   "codemirror_mode": {
    "name": "ipython",
    "version": 3
   },
   "file_extension": ".py",
   "mimetype": "text/x-python",
   "name": "python",
   "nbconvert_exporter": "python",
   "pygments_lexer": "ipython3",
   "version": "3.7.6"
  }
 },
 "nbformat": 4,
 "nbformat_minor": 4
}
